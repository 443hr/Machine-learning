{
 "cells": [
  {
   "cell_type": "markdown",
   "metadata": {},
   "source": [
    "# Python Programming Exercises"
   ]
  },
  {
   "cell_type": "markdown",
   "metadata": {},
   "source": [
    "Reference for some of these exercises is [here](https://www.w3resource.com/python-exercises/)."
   ]
  },
  {
   "cell_type": "markdown",
   "metadata": {
    "heading_collapsed": true
   },
   "source": [
    "## Exercise 1\n",
    "\n",
    "Write a Python function to check whether a number is divisible by another number. Your function should accept two integers values and return a boolean. "
   ]
  },
  {
   "cell_type": "markdown",
   "metadata": {
    "hidden": true
   },
   "source": [
    "**Examples**\n",
    "\n",
    "* $23/5 = 4 \\frac{3}{5} \\implies 23$ is not divisible by $5$ as the remainder is not $0 \\implies $ `False`\n",
    "* $20/5 = 4 \\frac{0}{5} = 4 \\implies 20$ is divisible by $5$ as the remainder is $0 \\implies $ `True`"
   ]
  },
  {
   "cell_type": "code",
   "execution_count": null,
   "metadata": {
    "code_folding": [],
    "hidden": true
   },
   "outputs": [],
   "source": [
    "def is_divisible(m,n):\n",
    "    return True if m % n == 0 else False\n",
    "\n",
    "print(is_divisible(20, 5))\n",
    "print(is_divisible(7, 2))"
   ]
  },
  {
   "cell_type": "markdown",
   "metadata": {
    "heading_collapsed": true
   },
   "source": [
    "## Exercise 2 \n",
    "\n",
    "Fibonacci numbers start with 0, 1 and continues such that the next number is the sum of the previous two numbers. Write a Python function that gives a list of the first $N$ Fibonacci numbers. \n",
    "\n",
    "**Bonus:** Make the first two numbers optional with default values of 0 and 1. "
   ]
  },
  {
   "cell_type": "markdown",
   "metadata": {
    "hidden": true
   },
   "source": [
    "**Some illustrations**\n",
    "\n",
    "How does Fibonacci sequence look like?\n",
    "\n",
    "$$0, 1, 1, 2, 3, 5, 8, 13...$$\n",
    "\n",
    "In terms of iteration $i$, let $x_{i}$ be the $i^{th}$ number in a Fibonacci sequence, we can break down\n",
    "\n",
    "\n",
    "* $i = 0$, $a = x_0 = 0, b = x_1 = 1$\n",
    "* $i = 1$, $x_2 = x_1 + x_0 = 1 + 0 = 1$\n",
    "* $i = 2$, $x_3 = x_2 + x_1 = 1 + 1 = 2$\n",
    "* $i = 3$, $x_4 = x_3 + x_2 = 2 + 1 = 3$\n",
    "* $i = 4$, $x_5 = x_4 + x_3 = 5 + 3 = 8$\n",
    "\n",
    "* $\\vdots$\n",
    "\n",
    "In general, $x_{i+1} = x_{i} + x_{i-1}$.\n",
    "\n",
    "* $x_{i}' \\rightarrow x_{i+1} = x_{i} + x_{i-1}$ after one iteration\n",
    "* $x_{i-1}' \\rightarrow x_{i}$ after one iteration"
   ]
  },
  {
   "cell_type": "code",
   "execution_count": null,
   "metadata": {
    "hidden": true
   },
   "outputs": [],
   "source": [
    "def fibonacci(N, a = 0, b = 1):\n",
    "    L = []\n",
    "    L.append(a)\n",
    "    while len(L) < N :\n",
    "        a, b = b, a+b\n",
    "        L.append(a)\n",
    "    return(L)    \n",
    "print(fibonacci(10))\n",
    "print(fibonacci(10, 5, 6))"
   ]
  },
  {
   "cell_type": "markdown",
   "metadata": {
    "heading_collapsed": true
   },
   "source": [
    "## Exercise 3\n",
    "\n",
    "Write a Python program to count the number of even and odd numbers in a given list of numbers."
   ]
  },
  {
   "cell_type": "code",
   "execution_count": null,
   "metadata": {
    "hidden": true
   },
   "outputs": [],
   "source": [
    "numbers = list(range(101))\n",
    "count_odd = 0\n",
    "count_even = 0\n",
    "for x in numbers :\n",
    "    if x % 2 == 0:\n",
    "       count_even += 1\n",
    "    else:\n",
    "        count_odd += 1\n",
    "     \n",
    "print('The number of even numbers in the list:', count_even)    \n",
    "print('The number of odd numbers in the list:',  count_odd)"
   ]
  },
  {
   "cell_type": "markdown",
   "metadata": {
    "heading_collapsed": true
   },
   "source": [
    "## Exercise 4\n",
    "\n",
    "Write a Python function that accepts a string and calculates the number of upper case and lower case letters using a dictionary with two keys."
   ]
  },
  {
   "cell_type": "markdown",
   "metadata": {
    "hidden": true
   },
   "source": [
    "**Tricks**\n",
    "\n",
    "* `.isupper()` and * `.islower()`\n"
   ]
  },
  {
   "cell_type": "markdown",
   "metadata": {
    "hidden": true
   },
   "source": [
    "**Remarks**\n",
    "\n",
    "* Special characters are not alphabets. So, `'!'.isupper()` or `'!'.isupper()` will return `False`\n",
    "* Numeric characters are not alphabets. So, `'2'.isupper()` or `'2'.isupper()` will return `False`"
   ]
  },
  {
   "cell_type": "code",
   "execution_count": null,
   "metadata": {
    "hidden": true
   },
   "outputs": [],
   "source": [
    "def string_test(s):\n",
    "    d = {'UPPER_CASE': 0, 'LOWER_CASE': 0}\n",
    "    for c in s:\n",
    "        if c.isupper():\n",
    "          d['UPPER_CASE'] += 1\n",
    "        elif c.islower():\n",
    "          d['LOWER_CASE'] += 1\n",
    "        else:\n",
    "           pass\n",
    "        \n",
    "    print ('Input String:', s)\n",
    "    print ('NO. of upper case characters : ', d['UPPER_CASE'])\n",
    "    print ('No. of lower case characters : ', d['LOWER_CASE'])\n",
    "string_test('Why would anyone not love Python')"
   ]
  },
  {
   "cell_type": "code",
   "execution_count": null,
   "metadata": {
    "hidden": true
   },
   "outputs": [],
   "source": [
    "def string_test(s):\n",
    "    d = {'UPPER_CASE': 0, 'LOWER_CASE': 0}\n",
    "    for c in s:\n",
    "        if c.isupper():\n",
    "          d['UPPER_CASE'] += 1\n",
    "        elif c.islower():\n",
    "         d['LOWER_CASE'] += 1\n",
    "        else:\n",
    "           pass\n",
    "    print ('Input String:', s)\n",
    "    print ('NO. of upper case characters : ', d['UPPER_CASE'])\n",
    "    print ('No. of lower case characters : ', d['LOWER_CASE'])\n",
    "\n",
    "string_test('Why would anyone not love Python?')"
   ]
  },
  {
   "cell_type": "markdown",
   "metadata": {
    "heading_collapsed": true
   },
   "source": [
    "## Exercise 5\n",
    "\n",
    "Write a Python program to store duplicate elements in a given list."
   ]
  },
  {
   "cell_type": "code",
   "execution_count": null,
   "metadata": {
    "hidden": true
   },
   "outputs": [],
   "source": [
    "lst = [1, 2, 3, 3, 5, 7, 8, 8, 11, 11, 11, 11]\n",
    "dup_elements = []\n",
    "for i in lst:\n",
    "    if lst.count(i) > 1:\n",
    "        if dup_elements.count(i) == 0:\n",
    "            dup_elements.append(i)\n",
    "\n",
    "print(dup_elements)"
   ]
  },
  {
   "cell_type": "markdown",
   "metadata": {
    "heading_collapsed": true
   },
   "source": [
    "## Exercise 6 \n",
    "\n",
    "Write a Python function that takes two lists and returns `True` if they have at least one common element."
   ]
  },
  {
   "cell_type": "code",
   "execution_count": null,
   "metadata": {
    "hidden": true
   },
   "outputs": [],
   "source": [
    "def common_element(list1, list2):\n",
    "    result = False\n",
    "    for x in list1:\n",
    "        for y in list2:\n",
    "            if x == y:\n",
    "                result = True\n",
    "    return result\n",
    "\n",
    "print(common_element([1,2],[2,3]))\n",
    "print(common_element([3,4],[5,6]))"
   ]
  },
  {
   "cell_type": "markdown",
   "metadata": {
    "hidden": true
   },
   "source": [
    "***\n",
    "www.featureranking.com"
   ]
  }
 ],
 "metadata": {
  "hide_input": false,
  "kernelspec": {
   "display_name": "Python 3 (ipykernel)",
   "language": "python",
   "name": "python3"
  },
  "language_info": {
   "codemirror_mode": {
    "name": "ipython",
    "version": 3
   },
   "file_extension": ".py",
   "mimetype": "text/x-python",
   "name": "python",
   "nbconvert_exporter": "python",
   "pygments_lexer": "ipython3",
   "version": "3.11.5"
  },
  "varInspector": {
   "cols": {
    "lenName": 16,
    "lenType": 16,
    "lenVar": 40
   },
   "kernels_config": {
    "python": {
     "delete_cmd_postfix": "",
     "delete_cmd_prefix": "del ",
     "library": "var_list.py",
     "varRefreshCmd": "print(var_dic_list())"
    },
    "r": {
     "delete_cmd_postfix": ") ",
     "delete_cmd_prefix": "rm(",
     "library": "var_list.r",
     "varRefreshCmd": "cat(var_dic_list()) "
    }
   },
   "types_to_exclude": [
    "module",
    "function",
    "builtin_function_or_method",
    "instance",
    "_Feature"
   ],
   "window_display": false
  }
 },
 "nbformat": 4,
 "nbformat_minor": 2
}
