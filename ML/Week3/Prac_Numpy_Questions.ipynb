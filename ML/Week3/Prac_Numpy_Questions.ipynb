{
 "cells": [
  {
   "cell_type": "markdown",
   "metadata": {},
   "source": [
    "# NumPy Exercises"
   ]
  },
  {
   "cell_type": "markdown",
   "metadata": {},
   "source": [
    "Reference for some of these exercises is [here](https://www.w3resource.com/python-exercises/)."
   ]
  },
  {
   "cell_type": "markdown",
   "metadata": {},
   "source": [
    "## Exercise 1\n",
    "\n",
    "Write a NumPy program to create a random array with 100 real-valued elements between 1 & 5 and compute the following for this array rounded to 2 decimal places:\n",
    "- average (that is, the sample mean)\n",
    "- population variance and population standard deviation (default option in NumPy)\n",
    "- sample variance and sample standard deviation\n",
    "\n",
    "**Hint:** For sample variance and sample standard deviation, use the `ddof=1` parameter value."
   ]
  },
  {
   "cell_type": "markdown",
   "metadata": {},
   "source": [
    "**Explanations**\n",
    "\n",
    "Population variance\n",
    "\n",
    "$$\\text{Population variance} = \\frac{\\sum_{i=1}^{N}(X_i - \\bar{X})^{2}}{N}$$\n",
    "\n",
    "Sample variance\n",
    "\n",
    "$$\\text{Sample variance} = \\frac{\\sum_{i=1}^{N}(X_i - \\bar{X})^{2}}{N-1}$$"
   ]
  },
  {
   "cell_type": "code",
   "execution_count": 1,
   "metadata": {},
   "outputs": [],
   "source": [
    "import numpy as np\n",
    "np.random.seed(999)\n",
    "a = 1+ 4*np.random.rand(100)\n"
   ]
  },
  {
   "cell_type": "markdown",
   "metadata": {},
   "source": [
    "## Execise 2\n",
    "\n",
    "Write a NumPy program to get the values and indices of the elements that are bigger than 10 in a given array. "
   ]
  },
  {
   "cell_type": "code",
   "execution_count": 26,
   "metadata": {},
   "outputs": [
    {
     "name": "stdout",
     "output_type": "stream",
     "text": [
      "{45: 2, 56: 3, 67: 6}\n"
     ]
    }
   ],
   "source": [
    "import numpy as np\n",
    "\n",
    "a = np.array([[1, 2, 45, 56, 3, 7, 67]])\n",
    "result_dict = {}\n",
    "\n",
    "# Flatten the array to iterate over each element\n",
    "flat_a = a.flatten()\n",
    "\n",
    "for index, value in enumerate(flat_a):\n",
    "    if value > 10:\n",
    "        # Add the element and its index to the dictionary\n",
    "        result_dict[value] = index\n",
    "\n",
    "print(result_dict)\n"
   ]
  },
  {
   "cell_type": "markdown",
   "metadata": {},
   "source": [
    "## Exercise 3\n",
    "\n",
    "Write a NumPy program to find the set difference of two arrays. The set difference will return the sorted, unique values in the first array `array1` that are not in the second one `array2`. **Hint:** This is a one-liner."
   ]
  },
  {
   "cell_type": "code",
   "execution_count": null,
   "metadata": {},
   "outputs": [],
   "source": [
    "array1 = np.array([1,4,5,6,7,8,10,12] ) #1 + np.random.rand(20).round(2)\n",
    "array2 = np.array([1,3,5,10,11])#1 + np.random.rand(20).round(2)\n"
   ]
  },
  {
   "cell_type": "markdown",
   "metadata": {},
   "source": [
    "## Exercise 4\n",
    "\n",
    "Write a NumPy program to calculate element-wise round, floor, ceiling, and truncated form of an input array."
   ]
  },
  {
   "cell_type": "code",
   "execution_count": 21,
   "metadata": {},
   "outputs": [
    {
     "name": "stdout",
     "output_type": "stream",
     "text": [
      "Original array:\n",
      "[ 1.23  2.65 -3.45  4.56 -5.75]\n",
      "\n",
      "Rounded:\n",
      "[ 1.  3. -3.  5. -6.]\n",
      "\n",
      "Floor:\n",
      "[ 1.  2. -4.  4. -6.]\n",
      "\n",
      "Ceiling:\n",
      "[ 2.  3. -3.  5. -5.]\n",
      "\n",
      "Truncated:\n",
      "[ 1.  2. -3.  4. -5.]\n"
     ]
    }
   ],
   "source": [
    "import numpy as np\n",
    "\n",
    "# Define a sample array with floating point numbers\n",
    "arr = np.array([1.23, 2.65, -3.45, 4.56, -5.75])\n",
    "\n",
    "# Calculate the rounded values\n",
    "rounded_arr = np.round(arr)\n",
    "\n",
    "# Calculate the floor values\n",
    "floor_arr = np.floor(arr)\n",
    "\n",
    "# Calculate the ceiling values\n",
    "ceiling_arr = np.ceil(arr)\n",
    "\n",
    "# Calculate the truncated values\n",
    "truncated_arr = np.trunc(arr)\n",
    "\n",
    "print(\"Original array:\")\n",
    "print(arr)\n",
    "print(\"\\nRounded:\")\n",
    "print(rounded_arr)\n",
    "print(\"\\nFloor:\")\n",
    "print(floor_arr)\n",
    "print(\"\\nCeiling:\")\n",
    "print(ceiling_arr)\n",
    "print(\"\\nTruncated:\")\n",
    "print(truncated_arr)\n"
   ]
  },
  {
   "cell_type": "code",
   "execution_count": null,
   "metadata": {},
   "outputs": [],
   "source": []
  }
 ],
 "metadata": {
  "hide_input": false,
  "kernelspec": {
   "display_name": "Python 3 (ipykernel)",
   "language": "python",
   "name": "python3"
  },
  "language_info": {
   "codemirror_mode": {
    "name": "ipython",
    "version": 3
   },
   "file_extension": ".py",
   "mimetype": "text/x-python",
   "name": "python",
   "nbconvert_exporter": "python",
   "pygments_lexer": "ipython3",
   "version": "3.11.4"
  },
  "varInspector": {
   "cols": {
    "lenName": 16,
    "lenType": 16,
    "lenVar": 40
   },
   "kernels_config": {
    "python": {
     "delete_cmd_postfix": "",
     "delete_cmd_prefix": "del ",
     "library": "var_list.py",
     "varRefreshCmd": "print(var_dic_list())"
    },
    "r": {
     "delete_cmd_postfix": ") ",
     "delete_cmd_prefix": "rm(",
     "library": "var_list.r",
     "varRefreshCmd": "cat(var_dic_list()) "
    }
   },
   "types_to_exclude": [
    "module",
    "function",
    "builtin_function_or_method",
    "instance",
    "_Feature"
   ],
   "window_display": false
  }
 },
 "nbformat": 4,
 "nbformat_minor": 2
}
