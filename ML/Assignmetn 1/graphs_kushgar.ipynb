{
 "cells": [
  {
   "cell_type": "markdown",
   "metadata": {},
   "source": [
    "# Graphs"
   ]
  },
  {
   "cell_type": "markdown",
   "metadata": {},
   "source": [
    "## Graphs 1\n",
    "\n",
    "### Please check the df variable name."
   ]
  },
  {
   "cell_type": "code",
   "execution_count": null,
   "metadata": {
    "vscode": {
     "languageId": "plaintext"
    }
   },
   "outputs": [],
   "source": [
    "import numpy as np\n",
    "import matplotlib.pyplot as plt\n",
    "%matplotlib inline \n",
    "%config InlineBackend.figure_format = 'retina'\n",
    "plt.style.use(\"ggplot\")\n",
    "\n",
    "import seaborn as sns\n",
    "\n",
    "sns.barplot(data=data, x=\"engine_cylinders\", y=\"annual_fuel_cost_ft1\")\n",
    "plt.xlabel(\"Engine Cylinders\")\n",
    "plt.ylabel(\"Annual Fuel Cost\")\n",
    "\n",
    "#sns.histplot(data=data, x=\"engine_cylinders\", y=\"annual_fuel_cost_ft1\")"
   ]
  },
  {
   "cell_type": "code",
   "execution_count": null,
   "metadata": {
    "vscode": {
     "languageId": "plaintext"
    }
   },
   "outputs": [],
   "source": [
    "dataaa = data['fuel_type_1'].value_counts()\n",
    "labels = dataaa.index\n",
    "size = dataaa.values\n",
    "\n",
    "# Create a pie chart\n",
    "plt.figure(figsize=(10, 6))  # Adjust figure size as needed\n",
    "\n",
    "# Plot the pie chart\n",
    "wedges, _ = plt.pie(size, labels=None, startangle=140)\n",
    "\n",
    "# Combine labels with percentage values for legend\n",
    "legend_labels = [f'{label} ({size:.1f}%)' for label, size in zip(labels, size)]\n",
    "\n",
    "# Add labels with percentage values in the legend\n",
    "plt.legend(wedges, legend_labels, loc=\"center left\", bbox_to_anchor=(1, 0.5), title=\"Fuel Type\")\n",
    "\n",
    "plt.title('Fuel Distribution')\n",
    "plt.axis('equal')  # Equal aspect ratio ensures that pie is drawn as a circle\n",
    "plt.tight_layout()  # Adjust layout\n",
    "plt.show()\n"
   ]
  },
  {
   "cell_type": "code",
   "execution_count": null,
   "metadata": {
    "vscode": {
     "languageId": "plaintext"
    }
   },
   "outputs": [],
   "source": [
    "plt.figure(figsize=(12, 6))\n",
    "vehicle_classes = data['class'].value_counts()\n",
    "sns.barplot(x=vehicle_classes.index, y=vehicle_classes.values, color='red')\n",
    "plt.xticks(rotation=90)\n",
    "plt.title('Distribution of Vehicles by Class')\n",
    "plt.xlabel('Vehicle Class---> ')\n",
    "plt.ylabel('Number of Vehicles --> ')\n",
    "plt.tight_layout()\n",
    "plt.show()"
   ]
  },
  {
   "cell_type": "code",
   "execution_count": null,
   "metadata": {
    "vscode": {
     "languageId": "plaintext"
    }
   },
   "outputs": [],
   "source": [
    "import seaborn as sns\n",
    "import matplotlib.pyplot as plt\n",
    "\n",
    "# Filter data for only 'Regular Gasoline' and 'Premium Gasoline'\n",
    "filtered_data = data[data['fuel_type_1'].isin(['Regular Gasoline', 'Premium Gasoline'])]\n",
    "\n",
    "# Create countplot\n",
    "plt.figure(figsize=(12, 6))\n",
    "sns.countplot(x='engine_cylinders', hue='fuel_type_1', data=filtered_data, \n",
    "              order=filtered_data['engine_cylinders'].value_counts().index, palette='viridis')\n",
    "\n",
    "# Customize plot\n",
    "plt.xticks(rotation=45)\n",
    "plt.title('Distribution of Engine Cylinders by Fuel Type')\n",
    "plt.xlabel('Engine Cylinders')\n",
    "plt.ylabel('Number of Vehicles')\n",
    "plt.tight_layout()\n",
    "plt.legend(title='Fuel Type', loc='upper left')\n",
    "plt.show()"
   ]
  },
  {
   "cell_type": "code",
   "execution_count": null,
   "metadata": {
    "vscode": {
     "languageId": "plaintext"
    }
   },
   "outputs": [],
   "source": [
    "import seaborn as sns\n",
    "import matplotlib.pyplot as plt\n",
    "\n",
    "# Assuming your dataset contains 'year', 'fuel_type_1', and 'transmission' columns\n",
    "\n",
    "# Filter data for only 'Regular Gasoline' and 'Premium Gasoline'\n",
    "d = rand_data[rand_data['fuel_type_1'].isin(['Regular Gasoline', 'Premium Gasoline'])]\n",
    "\n",
    "# Create FacetGrid with hue\n",
    "g = sns.FacetGrid(d, col='transmission', row='fuel_type_1', aspect=1.5, height=5)\n",
    "g.map_dataframe(sns.histplot, x='year', bins=5)\n",
    "g.add_legend()\n",
    "\n",
    "plt.show()"
   ]
  }
 ],
 "metadata": {
  "language_info": {
   "name": "python"
  }
 },
 "nbformat": 4,
 "nbformat_minor": 2
}
