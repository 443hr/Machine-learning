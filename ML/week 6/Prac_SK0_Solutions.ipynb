{
 "cells": [
  {
   "cell_type": "markdown",
   "metadata": {
    "collapsed": true
   },
   "source": [
    "# Practice Exercise: Scikit-Learn 0\n",
    "### Introduction to Predictive Modeling with Python and Scikit-Learn"
   ]
  },
  {
   "cell_type": "markdown",
   "metadata": {
    "collapsed": true
   },
   "source": [
    "### Objectives\n",
    "\n",
    "As in the [SK0 Tutorial](https://www.featureranking.com/tutorials/machine-learning-tutorials/sk-part-0-introduction-to-machine-learning-with-python-and-scikit-learn/), the objective of this practice notebook is to show you a panoramic view of how to build simple machine learning models using the cleaned \"income data\" from previous data preparation practices using a `holdout` approach. In the previous practices, you cleaned and transformed the raw `income data` and renamed the `income` column as `target` which is defined as:\n",
    "\n",
    "\n",
    "$$\\text{target} = \\begin{cases} 1 & \\text{ if the income exceeds USD 50,000} \\\\ 0 & \\text{ otherwise }\\end{cases}$$\n",
    "\n",
    "Including `target`, the cleaned data consists of 42 columns and 45,222 rows. Each column is numeric and between 0 and 1."
   ]
  },
  {
   "cell_type": "markdown",
   "metadata": {
    "collapsed": true
   },
   "source": [
    "### Exercise 0: Modeling Preparation\n",
    "\n",
    "- Read the clean data `us_census_income_data_clean_encoded.csv` available [here](https://github.com/akmand/datasets). \n",
    "- Randomly sample 5000 rows as it's too big for a short demo (using a random seed of 999).\n",
    "- Split the sampled data as 70% training set and the remaining 30% test set using a random seed of 999. \n",
    "- Remember to separate `target` during the splitting process. \n",
    "- Side question: Why do we need to set a random seed?"
   ]
  },
  {
   "cell_type": "code",
   "execution_count": 1,
   "metadata": {},
   "outputs": [
    {
     "name": "stdout",
     "output_type": "stream",
     "text": [
      "(45222, 42)\n"
     ]
    },
    {
     "data": {
      "text/html": [
       "<div>\n",
       "<style scoped>\n",
       "    .dataframe tbody tr th:only-of-type {\n",
       "        vertical-align: middle;\n",
       "    }\n",
       "\n",
       "    .dataframe tbody tr th {\n",
       "        vertical-align: top;\n",
       "    }\n",
       "\n",
       "    .dataframe thead th {\n",
       "        text-align: right;\n",
       "    }\n",
       "</style>\n",
       "<table border=\"1\" class=\"dataframe\">\n",
       "  <thead>\n",
       "    <tr style=\"text-align: right;\">\n",
       "      <th></th>\n",
       "      <th>age</th>\n",
       "      <th>education_num</th>\n",
       "      <th>race</th>\n",
       "      <th>gender</th>\n",
       "      <th>hours_per_week</th>\n",
       "      <th>native_country</th>\n",
       "      <th>capital</th>\n",
       "      <th>workclass_federal_gov</th>\n",
       "      <th>workclass_local_gov</th>\n",
       "      <th>workclass_private</th>\n",
       "      <th>workclass_self_emp_inc</th>\n",
       "      <th>workclass_self_emp_not_inc</th>\n",
       "      <th>workclass_state_gov</th>\n",
       "      <th>workclass_without_pay</th>\n",
       "      <th>marital_status_divorced</th>\n",
       "      <th>marital_status_married_af_spouse</th>\n",
       "      <th>marital_status_married_civ_spouse</th>\n",
       "      <th>marital_status_married_spouse_absent</th>\n",
       "      <th>marital_status_never_married</th>\n",
       "      <th>marital_status_separated</th>\n",
       "      <th>marital_status_widowed</th>\n",
       "      <th>occupation_adm_clerical</th>\n",
       "      <th>occupation_armed_forces</th>\n",
       "      <th>occupation_craft_repair</th>\n",
       "      <th>occupation_exec_managerial</th>\n",
       "      <th>occupation_farming_fishing</th>\n",
       "      <th>occupation_handlers_cleaners</th>\n",
       "      <th>occupation_machine_op_inspct</th>\n",
       "      <th>occupation_other_service</th>\n",
       "      <th>occupation_priv_house_serv</th>\n",
       "      <th>occupation_prof_specialty</th>\n",
       "      <th>occupation_protective_serv</th>\n",
       "      <th>occupation_sales</th>\n",
       "      <th>occupation_tech_support</th>\n",
       "      <th>occupation_transport_moving</th>\n",
       "      <th>relationship_husband</th>\n",
       "      <th>relationship_not_in_family</th>\n",
       "      <th>relationship_other_relative</th>\n",
       "      <th>relationship_own_child</th>\n",
       "      <th>relationship_unmarried</th>\n",
       "      <th>relationship_wife</th>\n",
       "      <th>target</th>\n",
       "    </tr>\n",
       "  </thead>\n",
       "  <tbody>\n",
       "    <tr>\n",
       "      <th>count</th>\n",
       "      <td>45222.000</td>\n",
       "      <td>45222.000</td>\n",
       "      <td>45222.000</td>\n",
       "      <td>45222.000</td>\n",
       "      <td>45222.000</td>\n",
       "      <td>45222.000</td>\n",
       "      <td>45222.000</td>\n",
       "      <td>45222.000</td>\n",
       "      <td>45222.000</td>\n",
       "      <td>45222.000</td>\n",
       "      <td>45222.000</td>\n",
       "      <td>45222.000</td>\n",
       "      <td>45222.000</td>\n",
       "      <td>45222.000</td>\n",
       "      <td>45222.000</td>\n",
       "      <td>45222.000</td>\n",
       "      <td>45222.000</td>\n",
       "      <td>45222.000</td>\n",
       "      <td>45222.000</td>\n",
       "      <td>45222.000</td>\n",
       "      <td>45222.000</td>\n",
       "      <td>45222.000</td>\n",
       "      <td>45222.000</td>\n",
       "      <td>45222.000</td>\n",
       "      <td>45222.000</td>\n",
       "      <td>45222.000</td>\n",
       "      <td>45222.000</td>\n",
       "      <td>45222.000</td>\n",
       "      <td>45222.000</td>\n",
       "      <td>45222.000</td>\n",
       "      <td>45222.000</td>\n",
       "      <td>45222.000</td>\n",
       "      <td>45222.000</td>\n",
       "      <td>45222.000</td>\n",
       "      <td>45222.000</td>\n",
       "      <td>45222.000</td>\n",
       "      <td>45222.000</td>\n",
       "      <td>45222.00</td>\n",
       "      <td>45222.000</td>\n",
       "      <td>45222.000</td>\n",
       "      <td>45222.000</td>\n",
       "      <td>45222.000</td>\n",
       "    </tr>\n",
       "    <tr>\n",
       "      <th>mean</th>\n",
       "      <td>0.295</td>\n",
       "      <td>0.608</td>\n",
       "      <td>0.860</td>\n",
       "      <td>0.675</td>\n",
       "      <td>0.408</td>\n",
       "      <td>0.913</td>\n",
       "      <td>0.051</td>\n",
       "      <td>0.031</td>\n",
       "      <td>0.069</td>\n",
       "      <td>0.737</td>\n",
       "      <td>0.036</td>\n",
       "      <td>0.084</td>\n",
       "      <td>0.043</td>\n",
       "      <td>0.000</td>\n",
       "      <td>0.139</td>\n",
       "      <td>0.001</td>\n",
       "      <td>0.466</td>\n",
       "      <td>0.012</td>\n",
       "      <td>0.323</td>\n",
       "      <td>0.031</td>\n",
       "      <td>0.028</td>\n",
       "      <td>0.123</td>\n",
       "      <td>0.000</td>\n",
       "      <td>0.133</td>\n",
       "      <td>0.132</td>\n",
       "      <td>0.033</td>\n",
       "      <td>0.045</td>\n",
       "      <td>0.066</td>\n",
       "      <td>0.106</td>\n",
       "      <td>0.005</td>\n",
       "      <td>0.133</td>\n",
       "      <td>0.022</td>\n",
       "      <td>0.120</td>\n",
       "      <td>0.031</td>\n",
       "      <td>0.051</td>\n",
       "      <td>0.413</td>\n",
       "      <td>0.259</td>\n",
       "      <td>0.03</td>\n",
       "      <td>0.147</td>\n",
       "      <td>0.106</td>\n",
       "      <td>0.046</td>\n",
       "      <td>0.248</td>\n",
       "    </tr>\n",
       "    <tr>\n",
       "      <th>std</th>\n",
       "      <td>0.181</td>\n",
       "      <td>0.170</td>\n",
       "      <td>0.347</td>\n",
       "      <td>0.468</td>\n",
       "      <td>0.123</td>\n",
       "      <td>0.282</td>\n",
       "      <td>0.072</td>\n",
       "      <td>0.174</td>\n",
       "      <td>0.253</td>\n",
       "      <td>0.441</td>\n",
       "      <td>0.187</td>\n",
       "      <td>0.277</td>\n",
       "      <td>0.203</td>\n",
       "      <td>0.022</td>\n",
       "      <td>0.346</td>\n",
       "      <td>0.027</td>\n",
       "      <td>0.499</td>\n",
       "      <td>0.110</td>\n",
       "      <td>0.468</td>\n",
       "      <td>0.174</td>\n",
       "      <td>0.166</td>\n",
       "      <td>0.328</td>\n",
       "      <td>0.018</td>\n",
       "      <td>0.340</td>\n",
       "      <td>0.339</td>\n",
       "      <td>0.178</td>\n",
       "      <td>0.208</td>\n",
       "      <td>0.248</td>\n",
       "      <td>0.308</td>\n",
       "      <td>0.071</td>\n",
       "      <td>0.339</td>\n",
       "      <td>0.145</td>\n",
       "      <td>0.324</td>\n",
       "      <td>0.174</td>\n",
       "      <td>0.220</td>\n",
       "      <td>0.492</td>\n",
       "      <td>0.438</td>\n",
       "      <td>0.17</td>\n",
       "      <td>0.354</td>\n",
       "      <td>0.308</td>\n",
       "      <td>0.210</td>\n",
       "      <td>0.432</td>\n",
       "    </tr>\n",
       "    <tr>\n",
       "      <th>min</th>\n",
       "      <td>0.000</td>\n",
       "      <td>0.000</td>\n",
       "      <td>0.000</td>\n",
       "      <td>0.000</td>\n",
       "      <td>0.000</td>\n",
       "      <td>0.000</td>\n",
       "      <td>0.000</td>\n",
       "      <td>0.000</td>\n",
       "      <td>0.000</td>\n",
       "      <td>0.000</td>\n",
       "      <td>0.000</td>\n",
       "      <td>0.000</td>\n",
       "      <td>0.000</td>\n",
       "      <td>0.000</td>\n",
       "      <td>0.000</td>\n",
       "      <td>0.000</td>\n",
       "      <td>0.000</td>\n",
       "      <td>0.000</td>\n",
       "      <td>0.000</td>\n",
       "      <td>0.000</td>\n",
       "      <td>0.000</td>\n",
       "      <td>0.000</td>\n",
       "      <td>0.000</td>\n",
       "      <td>0.000</td>\n",
       "      <td>0.000</td>\n",
       "      <td>0.000</td>\n",
       "      <td>0.000</td>\n",
       "      <td>0.000</td>\n",
       "      <td>0.000</td>\n",
       "      <td>0.000</td>\n",
       "      <td>0.000</td>\n",
       "      <td>0.000</td>\n",
       "      <td>0.000</td>\n",
       "      <td>0.000</td>\n",
       "      <td>0.000</td>\n",
       "      <td>0.000</td>\n",
       "      <td>0.000</td>\n",
       "      <td>0.00</td>\n",
       "      <td>0.000</td>\n",
       "      <td>0.000</td>\n",
       "      <td>0.000</td>\n",
       "      <td>0.000</td>\n",
       "    </tr>\n",
       "    <tr>\n",
       "      <th>25%</th>\n",
       "      <td>0.151</td>\n",
       "      <td>0.533</td>\n",
       "      <td>1.000</td>\n",
       "      <td>0.000</td>\n",
       "      <td>0.398</td>\n",
       "      <td>1.000</td>\n",
       "      <td>0.042</td>\n",
       "      <td>0.000</td>\n",
       "      <td>0.000</td>\n",
       "      <td>0.000</td>\n",
       "      <td>0.000</td>\n",
       "      <td>0.000</td>\n",
       "      <td>0.000</td>\n",
       "      <td>0.000</td>\n",
       "      <td>0.000</td>\n",
       "      <td>0.000</td>\n",
       "      <td>0.000</td>\n",
       "      <td>0.000</td>\n",
       "      <td>0.000</td>\n",
       "      <td>0.000</td>\n",
       "      <td>0.000</td>\n",
       "      <td>0.000</td>\n",
       "      <td>0.000</td>\n",
       "      <td>0.000</td>\n",
       "      <td>0.000</td>\n",
       "      <td>0.000</td>\n",
       "      <td>0.000</td>\n",
       "      <td>0.000</td>\n",
       "      <td>0.000</td>\n",
       "      <td>0.000</td>\n",
       "      <td>0.000</td>\n",
       "      <td>0.000</td>\n",
       "      <td>0.000</td>\n",
       "      <td>0.000</td>\n",
       "      <td>0.000</td>\n",
       "      <td>0.000</td>\n",
       "      <td>0.000</td>\n",
       "      <td>0.00</td>\n",
       "      <td>0.000</td>\n",
       "      <td>0.000</td>\n",
       "      <td>0.000</td>\n",
       "      <td>0.000</td>\n",
       "    </tr>\n",
       "    <tr>\n",
       "      <th>50%</th>\n",
       "      <td>0.274</td>\n",
       "      <td>0.600</td>\n",
       "      <td>1.000</td>\n",
       "      <td>1.000</td>\n",
       "      <td>0.398</td>\n",
       "      <td>1.000</td>\n",
       "      <td>0.042</td>\n",
       "      <td>0.000</td>\n",
       "      <td>0.000</td>\n",
       "      <td>1.000</td>\n",
       "      <td>0.000</td>\n",
       "      <td>0.000</td>\n",
       "      <td>0.000</td>\n",
       "      <td>0.000</td>\n",
       "      <td>0.000</td>\n",
       "      <td>0.000</td>\n",
       "      <td>0.000</td>\n",
       "      <td>0.000</td>\n",
       "      <td>0.000</td>\n",
       "      <td>0.000</td>\n",
       "      <td>0.000</td>\n",
       "      <td>0.000</td>\n",
       "      <td>0.000</td>\n",
       "      <td>0.000</td>\n",
       "      <td>0.000</td>\n",
       "      <td>0.000</td>\n",
       "      <td>0.000</td>\n",
       "      <td>0.000</td>\n",
       "      <td>0.000</td>\n",
       "      <td>0.000</td>\n",
       "      <td>0.000</td>\n",
       "      <td>0.000</td>\n",
       "      <td>0.000</td>\n",
       "      <td>0.000</td>\n",
       "      <td>0.000</td>\n",
       "      <td>0.000</td>\n",
       "      <td>0.000</td>\n",
       "      <td>0.00</td>\n",
       "      <td>0.000</td>\n",
       "      <td>0.000</td>\n",
       "      <td>0.000</td>\n",
       "      <td>0.000</td>\n",
       "    </tr>\n",
       "    <tr>\n",
       "      <th>75%</th>\n",
       "      <td>0.411</td>\n",
       "      <td>0.800</td>\n",
       "      <td>1.000</td>\n",
       "      <td>1.000</td>\n",
       "      <td>0.449</td>\n",
       "      <td>1.000</td>\n",
       "      <td>0.042</td>\n",
       "      <td>0.000</td>\n",
       "      <td>0.000</td>\n",
       "      <td>1.000</td>\n",
       "      <td>0.000</td>\n",
       "      <td>0.000</td>\n",
       "      <td>0.000</td>\n",
       "      <td>0.000</td>\n",
       "      <td>0.000</td>\n",
       "      <td>0.000</td>\n",
       "      <td>1.000</td>\n",
       "      <td>0.000</td>\n",
       "      <td>1.000</td>\n",
       "      <td>0.000</td>\n",
       "      <td>0.000</td>\n",
       "      <td>0.000</td>\n",
       "      <td>0.000</td>\n",
       "      <td>0.000</td>\n",
       "      <td>0.000</td>\n",
       "      <td>0.000</td>\n",
       "      <td>0.000</td>\n",
       "      <td>0.000</td>\n",
       "      <td>0.000</td>\n",
       "      <td>0.000</td>\n",
       "      <td>0.000</td>\n",
       "      <td>0.000</td>\n",
       "      <td>0.000</td>\n",
       "      <td>0.000</td>\n",
       "      <td>0.000</td>\n",
       "      <td>1.000</td>\n",
       "      <td>1.000</td>\n",
       "      <td>0.00</td>\n",
       "      <td>0.000</td>\n",
       "      <td>0.000</td>\n",
       "      <td>0.000</td>\n",
       "      <td>0.000</td>\n",
       "    </tr>\n",
       "    <tr>\n",
       "      <th>max</th>\n",
       "      <td>1.000</td>\n",
       "      <td>1.000</td>\n",
       "      <td>1.000</td>\n",
       "      <td>1.000</td>\n",
       "      <td>1.000</td>\n",
       "      <td>1.000</td>\n",
       "      <td>1.000</td>\n",
       "      <td>1.000</td>\n",
       "      <td>1.000</td>\n",
       "      <td>1.000</td>\n",
       "      <td>1.000</td>\n",
       "      <td>1.000</td>\n",
       "      <td>1.000</td>\n",
       "      <td>1.000</td>\n",
       "      <td>1.000</td>\n",
       "      <td>1.000</td>\n",
       "      <td>1.000</td>\n",
       "      <td>1.000</td>\n",
       "      <td>1.000</td>\n",
       "      <td>1.000</td>\n",
       "      <td>1.000</td>\n",
       "      <td>1.000</td>\n",
       "      <td>1.000</td>\n",
       "      <td>1.000</td>\n",
       "      <td>1.000</td>\n",
       "      <td>1.000</td>\n",
       "      <td>1.000</td>\n",
       "      <td>1.000</td>\n",
       "      <td>1.000</td>\n",
       "      <td>1.000</td>\n",
       "      <td>1.000</td>\n",
       "      <td>1.000</td>\n",
       "      <td>1.000</td>\n",
       "      <td>1.000</td>\n",
       "      <td>1.000</td>\n",
       "      <td>1.000</td>\n",
       "      <td>1.000</td>\n",
       "      <td>1.00</td>\n",
       "      <td>1.000</td>\n",
       "      <td>1.000</td>\n",
       "      <td>1.000</td>\n",
       "      <td>1.000</td>\n",
       "    </tr>\n",
       "  </tbody>\n",
       "</table>\n",
       "</div>"
      ],
      "text/plain": [
       "             age  education_num       race     gender  hours_per_week  \\\n",
       "count  45222.000      45222.000  45222.000  45222.000       45222.000   \n",
       "mean       0.295          0.608      0.860      0.675           0.408   \n",
       "std        0.181          0.170      0.347      0.468           0.123   \n",
       "min        0.000          0.000      0.000      0.000           0.000   \n",
       "25%        0.151          0.533      1.000      0.000           0.398   \n",
       "50%        0.274          0.600      1.000      1.000           0.398   \n",
       "75%        0.411          0.800      1.000      1.000           0.449   \n",
       "max        1.000          1.000      1.000      1.000           1.000   \n",
       "\n",
       "       native_country    capital  workclass_federal_gov  workclass_local_gov  \\\n",
       "count       45222.000  45222.000              45222.000            45222.000   \n",
       "mean            0.913      0.051                  0.031                0.069   \n",
       "std             0.282      0.072                  0.174                0.253   \n",
       "min             0.000      0.000                  0.000                0.000   \n",
       "25%             1.000      0.042                  0.000                0.000   \n",
       "50%             1.000      0.042                  0.000                0.000   \n",
       "75%             1.000      0.042                  0.000                0.000   \n",
       "max             1.000      1.000                  1.000                1.000   \n",
       "\n",
       "       workclass_private  workclass_self_emp_inc  workclass_self_emp_not_inc  \\\n",
       "count          45222.000               45222.000                   45222.000   \n",
       "mean               0.737                   0.036                       0.084   \n",
       "std                0.441                   0.187                       0.277   \n",
       "min                0.000                   0.000                       0.000   \n",
       "25%                0.000                   0.000                       0.000   \n",
       "50%                1.000                   0.000                       0.000   \n",
       "75%                1.000                   0.000                       0.000   \n",
       "max                1.000                   1.000                       1.000   \n",
       "\n",
       "       workclass_state_gov  workclass_without_pay  marital_status_divorced  \\\n",
       "count            45222.000              45222.000                45222.000   \n",
       "mean                 0.043                  0.000                    0.139   \n",
       "std                  0.203                  0.022                    0.346   \n",
       "min                  0.000                  0.000                    0.000   \n",
       "25%                  0.000                  0.000                    0.000   \n",
       "50%                  0.000                  0.000                    0.000   \n",
       "75%                  0.000                  0.000                    0.000   \n",
       "max                  1.000                  1.000                    1.000   \n",
       "\n",
       "       marital_status_married_af_spouse  marital_status_married_civ_spouse  \\\n",
       "count                         45222.000                          45222.000   \n",
       "mean                              0.001                              0.466   \n",
       "std                               0.027                              0.499   \n",
       "min                               0.000                              0.000   \n",
       "25%                               0.000                              0.000   \n",
       "50%                               0.000                              0.000   \n",
       "75%                               0.000                              1.000   \n",
       "max                               1.000                              1.000   \n",
       "\n",
       "       marital_status_married_spouse_absent  marital_status_never_married  \\\n",
       "count                             45222.000                     45222.000   \n",
       "mean                                  0.012                         0.323   \n",
       "std                                   0.110                         0.468   \n",
       "min                                   0.000                         0.000   \n",
       "25%                                   0.000                         0.000   \n",
       "50%                                   0.000                         0.000   \n",
       "75%                                   0.000                         1.000   \n",
       "max                                   1.000                         1.000   \n",
       "\n",
       "       marital_status_separated  marital_status_widowed  \\\n",
       "count                 45222.000               45222.000   \n",
       "mean                      0.031                   0.028   \n",
       "std                       0.174                   0.166   \n",
       "min                       0.000                   0.000   \n",
       "25%                       0.000                   0.000   \n",
       "50%                       0.000                   0.000   \n",
       "75%                       0.000                   0.000   \n",
       "max                       1.000                   1.000   \n",
       "\n",
       "       occupation_adm_clerical  occupation_armed_forces  \\\n",
       "count                45222.000                45222.000   \n",
       "mean                     0.123                    0.000   \n",
       "std                      0.328                    0.018   \n",
       "min                      0.000                    0.000   \n",
       "25%                      0.000                    0.000   \n",
       "50%                      0.000                    0.000   \n",
       "75%                      0.000                    0.000   \n",
       "max                      1.000                    1.000   \n",
       "\n",
       "       occupation_craft_repair  occupation_exec_managerial  \\\n",
       "count                45222.000                   45222.000   \n",
       "mean                     0.133                       0.132   \n",
       "std                      0.340                       0.339   \n",
       "min                      0.000                       0.000   \n",
       "25%                      0.000                       0.000   \n",
       "50%                      0.000                       0.000   \n",
       "75%                      0.000                       0.000   \n",
       "max                      1.000                       1.000   \n",
       "\n",
       "       occupation_farming_fishing  occupation_handlers_cleaners  \\\n",
       "count                   45222.000                     45222.000   \n",
       "mean                        0.033                         0.045   \n",
       "std                         0.178                         0.208   \n",
       "min                         0.000                         0.000   \n",
       "25%                         0.000                         0.000   \n",
       "50%                         0.000                         0.000   \n",
       "75%                         0.000                         0.000   \n",
       "max                         1.000                         1.000   \n",
       "\n",
       "       occupation_machine_op_inspct  occupation_other_service  \\\n",
       "count                     45222.000                 45222.000   \n",
       "mean                          0.066                     0.106   \n",
       "std                           0.248                     0.308   \n",
       "min                           0.000                     0.000   \n",
       "25%                           0.000                     0.000   \n",
       "50%                           0.000                     0.000   \n",
       "75%                           0.000                     0.000   \n",
       "max                           1.000                     1.000   \n",
       "\n",
       "       occupation_priv_house_serv  occupation_prof_specialty  \\\n",
       "count                   45222.000                  45222.000   \n",
       "mean                        0.005                      0.133   \n",
       "std                         0.071                      0.339   \n",
       "min                         0.000                      0.000   \n",
       "25%                         0.000                      0.000   \n",
       "50%                         0.000                      0.000   \n",
       "75%                         0.000                      0.000   \n",
       "max                         1.000                      1.000   \n",
       "\n",
       "       occupation_protective_serv  occupation_sales  occupation_tech_support  \\\n",
       "count                   45222.000         45222.000                45222.000   \n",
       "mean                        0.022             0.120                    0.031   \n",
       "std                         0.145             0.324                    0.174   \n",
       "min                         0.000             0.000                    0.000   \n",
       "25%                         0.000             0.000                    0.000   \n",
       "50%                         0.000             0.000                    0.000   \n",
       "75%                         0.000             0.000                    0.000   \n",
       "max                         1.000             1.000                    1.000   \n",
       "\n",
       "       occupation_transport_moving  relationship_husband  \\\n",
       "count                    45222.000             45222.000   \n",
       "mean                         0.051                 0.413   \n",
       "std                          0.220                 0.492   \n",
       "min                          0.000                 0.000   \n",
       "25%                          0.000                 0.000   \n",
       "50%                          0.000                 0.000   \n",
       "75%                          0.000                 1.000   \n",
       "max                          1.000                 1.000   \n",
       "\n",
       "       relationship_not_in_family  relationship_other_relative  \\\n",
       "count                   45222.000                     45222.00   \n",
       "mean                        0.259                         0.03   \n",
       "std                         0.438                         0.17   \n",
       "min                         0.000                         0.00   \n",
       "25%                         0.000                         0.00   \n",
       "50%                         0.000                         0.00   \n",
       "75%                         1.000                         0.00   \n",
       "max                         1.000                         1.00   \n",
       "\n",
       "       relationship_own_child  relationship_unmarried  relationship_wife  \\\n",
       "count               45222.000               45222.000          45222.000   \n",
       "mean                    0.147                   0.106              0.046   \n",
       "std                     0.354                   0.308              0.210   \n",
       "min                     0.000                   0.000              0.000   \n",
       "25%                     0.000                   0.000              0.000   \n",
       "50%                     0.000                   0.000              0.000   \n",
       "75%                     0.000                   0.000              0.000   \n",
       "max                     1.000                   1.000              1.000   \n",
       "\n",
       "          target  \n",
       "count  45222.000  \n",
       "mean       0.248  \n",
       "std        0.432  \n",
       "min        0.000  \n",
       "25%        0.000  \n",
       "50%        0.000  \n",
       "75%        0.000  \n",
       "max        1.000  "
      ]
     },
     "execution_count": 1,
     "metadata": {},
     "output_type": "execute_result"
    }
   ],
   "source": [
    "import warnings\n",
    "warnings.filterwarnings(\"ignore\")\n",
    "\n",
    "import numpy as np\n",
    "import pandas as pd\n",
    "import io\n",
    "import requests\n",
    "\n",
    "# so that we can see all the columns\n",
    "pd.set_option('display.max_columns', None) \n",
    "\n",
    "df_url = 'https://raw.githubusercontent.com/akmand/datasets/master/us_census_income_data_clean_encoded.csv'\n",
    "url_content = requests.get(df_url, verify=False).content\n",
    "df = pd.read_csv(io.StringIO(url_content.decode('utf-8')))\n",
    "\n",
    "print(df.shape)\n",
    "df.describe().round(3)"
   ]
  },
  {
   "cell_type": "markdown",
   "metadata": {},
   "source": [
    "if you have the data file in the home directory, you can load the data as follow:"
   ]
  },
  {
   "cell_type": "code",
   "execution_count": 2,
   "metadata": {},
   "outputs": [],
   "source": [
    "df = pd.read_csv('us_census_income_data_clean_encoded.csv')"
   ]
  },
  {
   "cell_type": "code",
   "execution_count": 3,
   "metadata": {},
   "outputs": [
    {
     "data": {
      "text/plain": [
       "(5000, 42)"
      ]
     },
     "execution_count": 3,
     "metadata": {},
     "output_type": "execute_result"
    }
   ],
   "source": [
    "df_sample = df.sample(n=5000, random_state=999)\n",
    "df_sample.shape"
   ]
  },
  {
   "cell_type": "code",
   "execution_count": 4,
   "metadata": {},
   "outputs": [],
   "source": [
    "from sklearn.model_selection import train_test_split\n",
    "target = df_sample.target.values\n",
    "Data = df_sample.drop(columns = 'target').values\n",
    "D_train, D_test, t_train, t_test = train_test_split(Data, \n",
    "                                                    target, \n",
    "                                                    test_size=0.3, \n",
    "                                                    random_state=999)"
   ]
  },
  {
   "cell_type": "code",
   "execution_count": 5,
   "metadata": {},
   "outputs": [
    {
     "name": "stdout",
     "output_type": "stream",
     "text": [
      "(3500, 41)\n",
      "(1500, 41)\n",
      "(3500,)\n",
      "(1500,)\n"
     ]
    }
   ],
   "source": [
    "print(D_train.shape)\n",
    "print(D_test.shape)\n",
    "print(t_train.shape)\n",
    "print(t_test.shape)"
   ]
  },
  {
   "cell_type": "markdown",
   "metadata": {},
   "source": [
    "### Exercise 1\n",
    "\n",
    "Verify whether training and test sets have similar proportion of target labels. Why is this step important?\n"
   ]
  },
  {
   "cell_type": "code",
   "execution_count": 6,
   "metadata": {},
   "outputs": [
    {
     "data": {
      "text/plain": [
       "0.25771428571428573"
      ]
     },
     "execution_count": 6,
     "metadata": {},
     "output_type": "execute_result"
    }
   ],
   "source": [
    "sum(t_train==1)/len(t_train)"
   ]
  },
  {
   "cell_type": "code",
   "execution_count": 7,
   "metadata": {},
   "outputs": [
    {
     "data": {
      "text/plain": [
       "0.25"
      ]
     },
     "execution_count": 7,
     "metadata": {},
     "output_type": "execute_result"
    }
   ],
   "source": [
    "sum(t_test==1)/len(t_test)"
   ]
  },
  {
   "cell_type": "code",
   "execution_count": 8,
   "metadata": {},
   "outputs": [],
   "source": [
    "D_train, D_test, t_train, t_test = train_test_split(Data, \n",
    "                                                    target, \n",
    "                                                    test_size=0.3, \n",
    "                                                    random_state=999,\n",
    "                                                    stratify=target)"
   ]
  },
  {
   "cell_type": "code",
   "execution_count": 9,
   "metadata": {},
   "outputs": [
    {
     "data": {
      "text/plain": [
       "0.25542857142857145"
      ]
     },
     "execution_count": 9,
     "metadata": {},
     "output_type": "execute_result"
    }
   ],
   "source": [
    "sum(t_train==1)/len(t_train)"
   ]
  },
  {
   "cell_type": "code",
   "execution_count": 10,
   "metadata": {},
   "outputs": [
    {
     "data": {
      "text/plain": [
       "0.25533333333333336"
      ]
     },
     "execution_count": 10,
     "metadata": {},
     "output_type": "execute_result"
    }
   ],
   "source": [
    "sum(t_test==1)/len(t_test)"
   ]
  },
  {
   "cell_type": "markdown",
   "metadata": {},
   "source": [
    "### Exercise 2\n",
    "\n",
    "- Fit a nearest neighbor (NN) classifier with $k=5$ neighbors using the Euclidean distance. \n",
    "- Fit the model on the train data and evaluate its performance on the test data using accuracy."
   ]
  },
  {
   "cell_type": "code",
   "execution_count": 11,
   "metadata": {},
   "outputs": [
    {
     "data": {
      "text/plain": [
       "0.8133333333333334"
      ]
     },
     "execution_count": 11,
     "metadata": {},
     "output_type": "execute_result"
    }
   ],
   "source": [
    "from sklearn.neighbors import KNeighborsClassifier\n",
    "\n",
    "knn_classifier = KNeighborsClassifier(n_neighbors=5, p=2)\n",
    "knn_classifier.fit(D_train, t_train)\n",
    "knn_classifier.score(D_test, t_test)"
   ]
  },
  {
   "cell_type": "code",
   "execution_count": 12,
   "metadata": {},
   "outputs": [
    {
     "data": {
      "text/plain": [
       "0.8133333333333334"
      ]
     },
     "execution_count": 12,
     "metadata": {},
     "output_type": "execute_result"
    }
   ],
   "source": [
    "pred_test = knn_classifier.predict(D_test)\n",
    "\n",
    "from sklearn.metrics import accuracy_score\n",
    "accuracy_score(pred_test, t_test)"
   ]
  },
  {
   "cell_type": "markdown",
   "metadata": {},
   "source": [
    "### Exercise 3\n",
    "\n",
    "- Extend the previous question by fitting $k=1, 3, 5, 10, 15, 20$ neighbors using the Manhattan and Euclidean distances respectively. \n",
    "- What is the optimal $k$ value for each distance metric? That is, at which $k$, the NN classifier returns the highest accuracy score? **Note:** We will learn later how to perform \"grid search\" to determine the optimal $k$ in later practices.\n",
    "- Which distance metric seems to be better? "
   ]
  },
  {
   "cell_type": "code",
   "execution_count": 13,
   "metadata": {},
   "outputs": [],
   "source": [
    "k_list = list([1, 3, 5, 10, 15, 20, 25])\n",
    "\n",
    "knn_score_manhattan = []\n",
    "knn_score_euclidean = []\n",
    "\n",
    "for k in k_list:\n",
    "    knn_classifier_manhattan = KNeighborsClassifier(n_neighbors=k, p=1)\n",
    "    knn_classifier_manhattan.fit(D_train, t_train)\n",
    "    knn_score_manhattan = knn_score_manhattan + [knn_classifier_manhattan.score(D_test, t_test)]\n",
    "    \n",
    "    knn_classifier_euclidean = KNeighborsClassifier(n_neighbors=k, p=2)\n",
    "    knn_classifier_euclidean.fit(D_train, t_train)\n",
    "    knn_score_euclidean = knn_score_euclidean + [knn_classifier_euclidean.score(D_test, t_test)]"
   ]
  },
  {
   "cell_type": "code",
   "execution_count": null,
   "metadata": {},
   "outputs": [],
   "source": []
  },
  {
   "cell_type": "code",
   "execution_count": 14,
   "metadata": {},
   "outputs": [
    {
     "data": {
      "text/html": [
       "<div>\n",
       "<style scoped>\n",
       "    .dataframe tbody tr th:only-of-type {\n",
       "        vertical-align: middle;\n",
       "    }\n",
       "\n",
       "    .dataframe tbody tr th {\n",
       "        vertical-align: top;\n",
       "    }\n",
       "\n",
       "    .dataframe thead th {\n",
       "        text-align: right;\n",
       "    }\n",
       "</style>\n",
       "<table border=\"1\" class=\"dataframe\">\n",
       "  <thead>\n",
       "    <tr style=\"text-align: right;\">\n",
       "      <th></th>\n",
       "      <th>score_manhattan</th>\n",
       "      <th>score_euclidean</th>\n",
       "    </tr>\n",
       "  </thead>\n",
       "  <tbody>\n",
       "    <tr>\n",
       "      <th>1</th>\n",
       "      <td>0.771333</td>\n",
       "      <td>0.773333</td>\n",
       "    </tr>\n",
       "    <tr>\n",
       "      <th>3</th>\n",
       "      <td>0.805333</td>\n",
       "      <td>0.794667</td>\n",
       "    </tr>\n",
       "    <tr>\n",
       "      <th>5</th>\n",
       "      <td>0.816000</td>\n",
       "      <td>0.813333</td>\n",
       "    </tr>\n",
       "    <tr>\n",
       "      <th>10</th>\n",
       "      <td>0.820667</td>\n",
       "      <td>0.816000</td>\n",
       "    </tr>\n",
       "    <tr>\n",
       "      <th>15</th>\n",
       "      <td>0.824000</td>\n",
       "      <td>0.828000</td>\n",
       "    </tr>\n",
       "    <tr>\n",
       "      <th>20</th>\n",
       "      <td>0.829333</td>\n",
       "      <td>0.831333</td>\n",
       "    </tr>\n",
       "    <tr>\n",
       "      <th>25</th>\n",
       "      <td>0.829333</td>\n",
       "      <td>0.828000</td>\n",
       "    </tr>\n",
       "  </tbody>\n",
       "</table>\n",
       "</div>"
      ],
      "text/plain": [
       "    score_manhattan  score_euclidean\n",
       "1          0.771333         0.773333\n",
       "3          0.805333         0.794667\n",
       "5          0.816000         0.813333\n",
       "10         0.820667         0.816000\n",
       "15         0.824000         0.828000\n",
       "20         0.829333         0.831333\n",
       "25         0.829333         0.828000"
      ]
     },
     "execution_count": 14,
     "metadata": {},
     "output_type": "execute_result"
    }
   ],
   "source": [
    "results = pd.DataFrame({'score_manhattan': knn_score_manhattan, \n",
    "                        'score_euclidean': knn_score_euclidean},\n",
    "                      index = k_list)\n",
    "results"
   ]
  },
  {
   "cell_type": "markdown",
   "metadata": {},
   "source": [
    "**Alternative solution + extra**\n",
    "\n",
    "We might need to visualize to see which combination of hyper-parameters gives us the best performance"
   ]
  },
  {
   "cell_type": "code",
   "execution_count": 15,
   "metadata": {},
   "outputs": [
    {
     "data": {
      "text/html": [
       "<div>\n",
       "<style scoped>\n",
       "    .dataframe tbody tr th:only-of-type {\n",
       "        vertical-align: middle;\n",
       "    }\n",
       "\n",
       "    .dataframe tbody tr th {\n",
       "        vertical-align: top;\n",
       "    }\n",
       "\n",
       "    .dataframe thead th {\n",
       "        text-align: right;\n",
       "    }\n",
       "</style>\n",
       "<table border=\"1\" class=\"dataframe\">\n",
       "  <thead>\n",
       "    <tr style=\"text-align: right;\">\n",
       "      <th></th>\n",
       "      <th>manhattan</th>\n",
       "      <th>euclidean</th>\n",
       "      <th>k</th>\n",
       "    </tr>\n",
       "  </thead>\n",
       "  <tbody>\n",
       "    <tr>\n",
       "      <th>0</th>\n",
       "      <td>0.771333</td>\n",
       "      <td>0.773333</td>\n",
       "      <td>1</td>\n",
       "    </tr>\n",
       "    <tr>\n",
       "      <th>1</th>\n",
       "      <td>0.805333</td>\n",
       "      <td>0.794667</td>\n",
       "      <td>3</td>\n",
       "    </tr>\n",
       "    <tr>\n",
       "      <th>2</th>\n",
       "      <td>0.816000</td>\n",
       "      <td>0.813333</td>\n",
       "      <td>5</td>\n",
       "    </tr>\n",
       "    <tr>\n",
       "      <th>3</th>\n",
       "      <td>0.820667</td>\n",
       "      <td>0.816000</td>\n",
       "      <td>10</td>\n",
       "    </tr>\n",
       "    <tr>\n",
       "      <th>4</th>\n",
       "      <td>0.824000</td>\n",
       "      <td>0.828000</td>\n",
       "      <td>15</td>\n",
       "    </tr>\n",
       "    <tr>\n",
       "      <th>5</th>\n",
       "      <td>0.829333</td>\n",
       "      <td>0.831333</td>\n",
       "      <td>20</td>\n",
       "    </tr>\n",
       "    <tr>\n",
       "      <th>6</th>\n",
       "      <td>0.829333</td>\n",
       "      <td>0.828000</td>\n",
       "      <td>25</td>\n",
       "    </tr>\n",
       "  </tbody>\n",
       "</table>\n",
       "</div>"
      ],
      "text/plain": [
       "   manhattan  euclidean   k\n",
       "0   0.771333   0.773333   1\n",
       "1   0.805333   0.794667   3\n",
       "2   0.816000   0.813333   5\n",
       "3   0.820667   0.816000  10\n",
       "4   0.824000   0.828000  15\n",
       "5   0.829333   0.831333  20\n",
       "6   0.829333   0.828000  25"
      ]
     },
     "execution_count": 15,
     "metadata": {},
     "output_type": "execute_result"
    }
   ],
   "source": [
    "results = pd.DataFrame({'manhattan': knn_score_manhattan, \n",
    "                        'euclidean': knn_score_euclidean,\n",
    "                        'k': k_list})\n",
    "results"
   ]
  },
  {
   "cell_type": "code",
   "execution_count": 16,
   "metadata": {},
   "outputs": [
    {
     "data": {
      "text/html": [
       "<div>\n",
       "<style scoped>\n",
       "    .dataframe tbody tr th:only-of-type {\n",
       "        vertical-align: middle;\n",
       "    }\n",
       "\n",
       "    .dataframe tbody tr th {\n",
       "        vertical-align: top;\n",
       "    }\n",
       "\n",
       "    .dataframe thead th {\n",
       "        text-align: right;\n",
       "    }\n",
       "</style>\n",
       "<table border=\"1\" class=\"dataframe\">\n",
       "  <thead>\n",
       "    <tr style=\"text-align: right;\">\n",
       "      <th></th>\n",
       "      <th>k</th>\n",
       "      <th>Distance</th>\n",
       "      <th>Accuracy</th>\n",
       "    </tr>\n",
       "  </thead>\n",
       "  <tbody>\n",
       "    <tr>\n",
       "      <th>0</th>\n",
       "      <td>1</td>\n",
       "      <td>manhattan</td>\n",
       "      <td>0.771333</td>\n",
       "    </tr>\n",
       "    <tr>\n",
       "      <th>1</th>\n",
       "      <td>3</td>\n",
       "      <td>manhattan</td>\n",
       "      <td>0.805333</td>\n",
       "    </tr>\n",
       "    <tr>\n",
       "      <th>2</th>\n",
       "      <td>5</td>\n",
       "      <td>manhattan</td>\n",
       "      <td>0.816000</td>\n",
       "    </tr>\n",
       "    <tr>\n",
       "      <th>3</th>\n",
       "      <td>10</td>\n",
       "      <td>manhattan</td>\n",
       "      <td>0.820667</td>\n",
       "    </tr>\n",
       "    <tr>\n",
       "      <th>4</th>\n",
       "      <td>15</td>\n",
       "      <td>manhattan</td>\n",
       "      <td>0.824000</td>\n",
       "    </tr>\n",
       "    <tr>\n",
       "      <th>5</th>\n",
       "      <td>20</td>\n",
       "      <td>manhattan</td>\n",
       "      <td>0.829333</td>\n",
       "    </tr>\n",
       "    <tr>\n",
       "      <th>6</th>\n",
       "      <td>25</td>\n",
       "      <td>manhattan</td>\n",
       "      <td>0.829333</td>\n",
       "    </tr>\n",
       "    <tr>\n",
       "      <th>7</th>\n",
       "      <td>1</td>\n",
       "      <td>euclidean</td>\n",
       "      <td>0.773333</td>\n",
       "    </tr>\n",
       "    <tr>\n",
       "      <th>8</th>\n",
       "      <td>3</td>\n",
       "      <td>euclidean</td>\n",
       "      <td>0.794667</td>\n",
       "    </tr>\n",
       "    <tr>\n",
       "      <th>9</th>\n",
       "      <td>5</td>\n",
       "      <td>euclidean</td>\n",
       "      <td>0.813333</td>\n",
       "    </tr>\n",
       "    <tr>\n",
       "      <th>10</th>\n",
       "      <td>10</td>\n",
       "      <td>euclidean</td>\n",
       "      <td>0.816000</td>\n",
       "    </tr>\n",
       "    <tr>\n",
       "      <th>11</th>\n",
       "      <td>15</td>\n",
       "      <td>euclidean</td>\n",
       "      <td>0.828000</td>\n",
       "    </tr>\n",
       "    <tr>\n",
       "      <th>12</th>\n",
       "      <td>20</td>\n",
       "      <td>euclidean</td>\n",
       "      <td>0.831333</td>\n",
       "    </tr>\n",
       "    <tr>\n",
       "      <th>13</th>\n",
       "      <td>25</td>\n",
       "      <td>euclidean</td>\n",
       "      <td>0.828000</td>\n",
       "    </tr>\n",
       "  </tbody>\n",
       "</table>\n",
       "</div>"
      ],
      "text/plain": [
       "     k   Distance  Accuracy\n",
       "0    1  manhattan  0.771333\n",
       "1    3  manhattan  0.805333\n",
       "2    5  manhattan  0.816000\n",
       "3   10  manhattan  0.820667\n",
       "4   15  manhattan  0.824000\n",
       "5   20  manhattan  0.829333\n",
       "6   25  manhattan  0.829333\n",
       "7    1  euclidean  0.773333\n",
       "8    3  euclidean  0.794667\n",
       "9    5  euclidean  0.813333\n",
       "10  10  euclidean  0.816000\n",
       "11  15  euclidean  0.828000\n",
       "12  20  euclidean  0.831333\n",
       "13  25  euclidean  0.828000"
      ]
     },
     "execution_count": 16,
     "metadata": {},
     "output_type": "execute_result"
    }
   ],
   "source": [
    "plot_results = pd.melt(results,\n",
    "                       id_vars=['k'], \n",
    "                       value_vars=['manhattan', 'euclidean'],\n",
    "                       value_name='Accuracy',\n",
    "                       var_name='Distance')\n",
    "plot_results"
   ]
  },
  {
   "cell_type": "code",
   "execution_count": 17,
   "metadata": {},
   "outputs": [
    {
     "data": {
      "text/plain": [
       "k                  20\n",
       "Distance    euclidean\n",
       "Accuracy     0.831333\n",
       "Name: 12, dtype: object"
      ]
     },
     "execution_count": 17,
     "metadata": {},
     "output_type": "execute_result"
    }
   ],
   "source": [
    "plot_results.loc[plot_results['Accuracy'].idxmax(), ]"
   ]
  },
  {
   "cell_type": "code",
   "execution_count": 18,
   "metadata": {},
   "outputs": [
    {
     "data": {
      "image/png": "[encoded data removed]",
      "text/plain": [
       "<Figure size 576x396 with 1 Axes>"
      ]
     },
     "metadata": {
      "image/png": {
       "height": 358,
       "width": 606
      }
     },
     "output_type": "display_data"
    }
   ],
   "source": [
    "import matplotlib.pyplot as plt\n",
    "%matplotlib inline \n",
    "%config InlineBackend.figure_format = 'retina'\n",
    "plt.style.use(\"seaborn\")\n",
    "\n",
    "import seaborn as sns\n",
    "fig = sns.lineplot(\n",
    "    data=plot_results,\n",
    "    hue='Distance',\n",
    "    x=\"k\", y=\"Accuracy\"\n",
    ")\n",
    "fig.set(title='Accuracy score', xlabel='Number of neighbours, k')\n",
    "plt.legend(bbox_to_anchor=(1.05, 1), loc=2, borderaxespad=0.)\n",
    "plt.show()"
   ]
  },
  {
   "cell_type": "markdown",
   "metadata": {},
   "source": [
    "`k=20` and the Manhattan distance yield the highest accuracy. So how can we save this \"optimal\" KNN model? Three approaches:\n",
    "\n",
    "1. Refit the classifier with the optimal hyperparameters.\n",
    "2. We should have \"saved\" the model in the for-loop above.\n",
    "3. We can use the `grid-search` method (to be covered in later practices)!"
   ]
  },
  {
   "cell_type": "markdown",
   "metadata": {},
   "source": [
    "**Extra tip**: we can use \"double for\" list comprehension to store the results and prepare it to a data frame for visualisation. "
   ]
  },
  {
   "cell_type": "code",
   "execution_count": 19,
   "metadata": {},
   "outputs": [
    {
     "data": {
      "text/html": [
       "<div>\n",
       "<style scoped>\n",
       "    .dataframe tbody tr th:only-of-type {\n",
       "        vertical-align: middle;\n",
       "    }\n",
       "\n",
       "    .dataframe tbody tr th {\n",
       "        vertical-align: top;\n",
       "    }\n",
       "\n",
       "    .dataframe thead th {\n",
       "        text-align: right;\n",
       "    }\n",
       "</style>\n",
       "<table border=\"1\" class=\"dataframe\">\n",
       "  <thead>\n",
       "    <tr style=\"text-align: right;\">\n",
       "      <th></th>\n",
       "      <th>k</th>\n",
       "      <th>distance</th>\n",
       "      <th>accuracy</th>\n",
       "    </tr>\n",
       "  </thead>\n",
       "  <tbody>\n",
       "    <tr>\n",
       "      <th>0</th>\n",
       "      <td>1</td>\n",
       "      <td>1</td>\n",
       "      <td>0.771333</td>\n",
       "    </tr>\n",
       "    <tr>\n",
       "      <th>1</th>\n",
       "      <td>3</td>\n",
       "      <td>1</td>\n",
       "      <td>0.798000</td>\n",
       "    </tr>\n",
       "    <tr>\n",
       "      <th>2</th>\n",
       "      <td>5</td>\n",
       "      <td>1</td>\n",
       "      <td>0.809333</td>\n",
       "    </tr>\n",
       "    <tr>\n",
       "      <th>3</th>\n",
       "      <td>10</td>\n",
       "      <td>1</td>\n",
       "      <td>0.822667</td>\n",
       "    </tr>\n",
       "    <tr>\n",
       "      <th>4</th>\n",
       "      <td>15</td>\n",
       "      <td>1</td>\n",
       "      <td>0.828667</td>\n",
       "    </tr>\n",
       "    <tr>\n",
       "      <th>5</th>\n",
       "      <td>20</td>\n",
       "      <td>1</td>\n",
       "      <td>0.824000</td>\n",
       "    </tr>\n",
       "    <tr>\n",
       "      <th>6</th>\n",
       "      <td>25</td>\n",
       "      <td>1</td>\n",
       "      <td>0.822000</td>\n",
       "    </tr>\n",
       "    <tr>\n",
       "      <th>7</th>\n",
       "      <td>1</td>\n",
       "      <td>2</td>\n",
       "      <td>0.771333</td>\n",
       "    </tr>\n",
       "    <tr>\n",
       "      <th>8</th>\n",
       "      <td>3</td>\n",
       "      <td>2</td>\n",
       "      <td>0.798000</td>\n",
       "    </tr>\n",
       "    <tr>\n",
       "      <th>9</th>\n",
       "      <td>5</td>\n",
       "      <td>2</td>\n",
       "      <td>0.809333</td>\n",
       "    </tr>\n",
       "    <tr>\n",
       "      <th>10</th>\n",
       "      <td>10</td>\n",
       "      <td>2</td>\n",
       "      <td>0.822667</td>\n",
       "    </tr>\n",
       "    <tr>\n",
       "      <th>11</th>\n",
       "      <td>15</td>\n",
       "      <td>2</td>\n",
       "      <td>0.828667</td>\n",
       "    </tr>\n",
       "    <tr>\n",
       "      <th>12</th>\n",
       "      <td>20</td>\n",
       "      <td>2</td>\n",
       "      <td>0.824000</td>\n",
       "    </tr>\n",
       "    <tr>\n",
       "      <th>13</th>\n",
       "      <td>25</td>\n",
       "      <td>2</td>\n",
       "      <td>0.822000</td>\n",
       "    </tr>\n",
       "  </tbody>\n",
       "</table>\n",
       "</div>"
      ],
      "text/plain": [
       "     k  distance  accuracy\n",
       "0    1         1  0.771333\n",
       "1    3         1  0.798000\n",
       "2    5         1  0.809333\n",
       "3   10         1  0.822667\n",
       "4   15         1  0.828667\n",
       "5   20         1  0.824000\n",
       "6   25         1  0.822000\n",
       "7    1         2  0.771333\n",
       "8    3         2  0.798000\n",
       "9    5         2  0.809333\n",
       "10  10         2  0.822667\n",
       "11  15         2  0.828667\n",
       "12  20         2  0.824000\n",
       "13  25         2  0.822000"
      ]
     },
     "execution_count": 19,
     "metadata": {},
     "output_type": "execute_result"
    }
   ],
   "source": [
    "k_list = [1, 3, 5, 10, 15, 20, 25]\n",
    "p_list = [1, 2]\n",
    "\n",
    "parameters = [(k, p, ) for p in p_list for k in k_list]\n",
    "results = []\n",
    "for r in parameters:\n",
    "    model = KNeighborsClassifier(n_neighbors=r[0],p=r[0])\n",
    "    model.fit(D_train, t_train)\n",
    "    result = model.score(D_test, t_test)\n",
    "    results.append((*r, result))\n",
    "results\n",
    "result_df = pd.DataFrame(results, columns=['k', 'distance', 'accuracy'])\n",
    "result_df"
   ]
  },
  {
   "cell_type": "markdown",
   "metadata": {},
   "source": [
    "### Exercise 4\n",
    "\n",
    "- Fit a decision tree classifier with the entropy split criterion and a maximum depth of 5 on the train data, and then evaluate its performance on the test data. \n",
    "- Does it perform better than the \"best\" KNN model from the previous question?"
   ]
  },
  {
   "cell_type": "code",
   "execution_count": 20,
   "metadata": {},
   "outputs": [
    {
     "data": {
      "text/plain": [
       "0.84"
      ]
     },
     "execution_count": 20,
     "metadata": {},
     "output_type": "execute_result"
    }
   ],
   "source": [
    "from sklearn.tree import DecisionTreeClassifier\n",
    "\n",
    "dt_classifier = DecisionTreeClassifier(criterion='entropy', max_depth=5, random_state=999)\n",
    "dt_classifier.fit(D_train, t_train)\n",
    "dt_classifier.score(D_test, t_test)"
   ]
  },
  {
   "cell_type": "markdown",
   "metadata": {},
   "source": [
    "**Extra**\n",
    "\n",
    "Let's export the trained decision-tree model into a pickle file."
   ]
  },
  {
   "cell_type": "code",
   "execution_count": 21,
   "metadata": {},
   "outputs": [],
   "source": [
    "from pickle import dump, load\n",
    "filename = 'dt_model.pkl'\n",
    "dump(dt_classifier, open(filename, 'wb'))"
   ]
  },
  {
   "cell_type": "code",
   "execution_count": 22,
   "metadata": {},
   "outputs": [],
   "source": [
    "saved_dt_classifier = load(open(filename, 'rb'))"
   ]
  },
  {
   "cell_type": "code",
   "execution_count": 23,
   "metadata": {},
   "outputs": [
    {
     "data": {
      "text/plain": [
       "0.84"
      ]
     },
     "execution_count": 23,
     "metadata": {},
     "output_type": "execute_result"
    }
   ],
   "source": [
    "saved_dt_classifier.score(D_test, t_test)"
   ]
  },
  {
   "cell_type": "markdown",
   "metadata": {},
   "source": [
    "### Exercise 5\n",
    "\n",
    "- Fit a random forest classifier with `n_estimators=100` on train data, and then evaluate its performance on the test data. \n",
    "- Does it perform better than the decision tree model in the previous question?"
   ]
  },
  {
   "cell_type": "code",
   "execution_count": 24,
   "metadata": {},
   "outputs": [
    {
     "data": {
      "text/plain": [
       "0.85"
      ]
     },
     "execution_count": 24,
     "metadata": {},
     "output_type": "execute_result"
    }
   ],
   "source": [
    "from sklearn.ensemble import RandomForestClassifier\n",
    "\n",
    "rf_classifier = RandomForestClassifier(n_estimators=100, random_state=999)\n",
    "rf_classifier.fit(D_train, t_train)\n",
    "rf_classifier.score(D_test, t_test)"
   ]
  },
  {
   "cell_type": "markdown",
   "metadata": {},
   "source": [
    "### Exercise 6\n",
    "\n",
    "Fit a random forest classifier with `n_estimators=250` on train data, and then evaluate its performance on the test data. Does it return a higher accuracy compared to `n_estimators=100`?"
   ]
  },
  {
   "cell_type": "code",
   "execution_count": 25,
   "metadata": {},
   "outputs": [
    {
     "data": {
      "text/plain": [
       "0.8486666666666667"
      ]
     },
     "execution_count": 25,
     "metadata": {},
     "output_type": "execute_result"
    }
   ],
   "source": [
    "rf_classifier = RandomForestClassifier(n_estimators=250, random_state=999)\n",
    "rf_classifier.fit(D_train, t_train)\n",
    "rf_classifier.score(D_test, t_test)"
   ]
  },
  {
   "cell_type": "markdown",
   "metadata": {},
   "source": [
    "###  Exercise 7\n",
    "\n",
    "Fit to a Gaussian naive Bayes classifier with a variance smoothing value of $10^{-2}$."
   ]
  },
  {
   "cell_type": "code",
   "execution_count": 26,
   "metadata": {},
   "outputs": [
    {
     "data": {
      "text/plain": [
       "0.766"
      ]
     },
     "execution_count": 26,
     "metadata": {},
     "output_type": "execute_result"
    }
   ],
   "source": [
    "from sklearn.naive_bayes import GaussianNB\n",
    "\n",
    "nb_classifier = GaussianNB(var_smoothing=10**(-2))\n",
    "nb_classifier.fit(D_train, t_train)\n",
    "nb_classifier.score(D_test, t_test)"
   ]
  },
  {
   "cell_type": "markdown",
   "metadata": {},
   "source": [
    "### Exercise 8\n",
    "\n",
    "Fit to a support vector machine with default values."
   ]
  },
  {
   "cell_type": "code",
   "execution_count": 27,
   "metadata": {},
   "outputs": [
    {
     "data": {
      "text/plain": [
       "0.822"
      ]
     },
     "execution_count": 27,
     "metadata": {},
     "output_type": "execute_result"
    }
   ],
   "source": [
    "from sklearn.svm import SVC\n",
    "\n",
    "svm_classifier = SVC()\n",
    "svm_classifier.fit(D_train, t_train)\n",
    "svm_classifier.score(D_test, t_test)"
   ]
  },
  {
   "cell_type": "markdown",
   "metadata": {},
   "source": [
    "### Exercise 9\n",
    "\n",
    "Predict the first three observations of the full cleaned data using the support vector machine built in the previous question."
   ]
  },
  {
   "cell_type": "code",
   "execution_count": 28,
   "metadata": {},
   "outputs": [
    {
     "data": {
      "text/plain": [
       "array([0, 0, 0])"
      ]
     },
     "execution_count": 28,
     "metadata": {},
     "output_type": "execute_result"
    }
   ],
   "source": [
    "new_obs = Data[0:3]\n",
    "svm_classifier.predict(new_obs)"
   ]
  },
  {
   "cell_type": "markdown",
   "metadata": {},
   "source": [
    "### Exercise 10\n",
    "\n",
    "Use `Pandas` to create a confusion matrix for the SVM model.<br>\n",
    "**Hint:** Use pd.crosstab(). <br>\n",
    "**Note:** We will learn how to use other performance evaluation measures using `Scikit-Learn` in upcoming practices."
   ]
  },
  {
   "cell_type": "code",
   "execution_count": 29,
   "metadata": {},
   "outputs": [],
   "source": [
    "predictions = svm_classifier.predict(D_test)"
   ]
  },
  {
   "cell_type": "code",
   "execution_count": 30,
   "metadata": {},
   "outputs": [],
   "source": [
    "confusion_matrix2 = pd.crosstab(t_test, predictions, rownames=['Actual'], colnames=['Predicted'], margins=True)"
   ]
  },
  {
   "cell_type": "code",
   "execution_count": 31,
   "metadata": {},
   "outputs": [
    {
     "data": {
      "text/html": [
       "<div>\n",
       "<style scoped>\n",
       "    .dataframe tbody tr th:only-of-type {\n",
       "        vertical-align: middle;\n",
       "    }\n",
       "\n",
       "    .dataframe tbody tr th {\n",
       "        vertical-align: top;\n",
       "    }\n",
       "\n",
       "    .dataframe thead th {\n",
       "        text-align: right;\n",
       "    }\n",
       "</style>\n",
       "<table border=\"1\" class=\"dataframe\">\n",
       "  <thead>\n",
       "    <tr style=\"text-align: right;\">\n",
       "      <th>Predicted</th>\n",
       "      <th>0</th>\n",
       "      <th>1</th>\n",
       "      <th>All</th>\n",
       "    </tr>\n",
       "    <tr>\n",
       "      <th>Actual</th>\n",
       "      <th></th>\n",
       "      <th></th>\n",
       "      <th></th>\n",
       "    </tr>\n",
       "  </thead>\n",
       "  <tbody>\n",
       "    <tr>\n",
       "      <th>0</th>\n",
       "      <td>1016</td>\n",
       "      <td>101</td>\n",
       "      <td>1117</td>\n",
       "    </tr>\n",
       "    <tr>\n",
       "      <th>1</th>\n",
       "      <td>166</td>\n",
       "      <td>217</td>\n",
       "      <td>383</td>\n",
       "    </tr>\n",
       "    <tr>\n",
       "      <th>All</th>\n",
       "      <td>1182</td>\n",
       "      <td>318</td>\n",
       "      <td>1500</td>\n",
       "    </tr>\n",
       "  </tbody>\n",
       "</table>\n",
       "</div>"
      ],
      "text/plain": [
       "Predicted     0    1   All\n",
       "Actual                    \n",
       "0          1016  101  1117\n",
       "1           166  217   383\n",
       "All        1182  318  1500"
      ]
     },
     "execution_count": 31,
     "metadata": {},
     "output_type": "execute_result"
    }
   ],
   "source": [
    "confusion_matrix2"
   ]
  },
  {
   "cell_type": "markdown",
   "metadata": {},
   "source": [
    "**Alternative solution**"
   ]
  },
  {
   "cell_type": "code",
   "execution_count": 32,
   "metadata": {},
   "outputs": [
    {
     "data": {
      "text/plain": [
       "array([[1016,  101],\n",
       "       [ 166,  217]])"
      ]
     },
     "execution_count": 32,
     "metadata": {},
     "output_type": "execute_result"
    }
   ],
   "source": [
    "from sklearn.metrics import confusion_matrix\n",
    "confusion_matrix(t_test, predictions)"
   ]
  },
  {
   "cell_type": "markdown",
   "metadata": {},
   "source": [
    "### Exercise 11\n",
    "\n",
    "- Which cells in the confusion matrix correspond to `TP` and `TN`? \n",
    "- Calculate\n",
    "> - Accuracy rate\n",
    "> - Error rate\n",
    "> - Precision (across the \"1\" column)\n",
    "> - Recall (across the \"1\" row)"
   ]
  },
  {
   "cell_type": "code",
   "execution_count": 33,
   "metadata": {},
   "outputs": [
    {
     "name": "stdout",
     "output_type": "stream",
     "text": [
      "              precision    recall  f1-score   support\n",
      "\n",
      "           0       0.86      0.91      0.88      1117\n",
      "           1       0.68      0.57      0.62       383\n",
      "\n",
      "    accuracy                           0.82      1500\n",
      "   macro avg       0.77      0.74      0.75      1500\n",
      "weighted avg       0.81      0.82      0.82      1500\n",
      "\n"
     ]
    }
   ],
   "source": [
    "from sklearn.metrics import classification_report\n",
    "print(classification_report(t_test, predictions))"
   ]
  },
  {
   "cell_type": "markdown",
   "metadata": {},
   "source": [
    "Note that error rate = 1 - accuracy. So the report does not solve contain it. Meanwhile, you can restore the classification report as a dictionary object `output_dict=True`."
   ]
  },
  {
   "cell_type": "code",
   "execution_count": 34,
   "metadata": {},
   "outputs": [
    {
     "data": {
      "text/plain": [
       "{'0': {'precision': 0.8595600676818951,\n",
       "  'recall': 0.909579230080573,\n",
       "  'f1-score': 0.8838625489343193,\n",
       "  'support': 1117},\n",
       " '1': {'precision': 0.6823899371069182,\n",
       "  'recall': 0.566579634464752,\n",
       "  'f1-score': 0.6191155492154066,\n",
       "  'support': 383},\n",
       " 'accuracy': 0.822,\n",
       " 'macro avg': {'precision': 0.7709750023944066,\n",
       "  'recall': 0.7380794322726625,\n",
       "  'f1-score': 0.7514890490748629,\n",
       "  'support': 1500},\n",
       " 'weighted avg': {'precision': 0.8143226276750842,\n",
       "  'recall': 0.822,\n",
       "  'f1-score': 0.8162638150060902,\n",
       "  'support': 1500}}"
      ]
     },
     "execution_count": 34,
     "metadata": {},
     "output_type": "execute_result"
    }
   ],
   "source": [
    "classification_report(t_test, predictions, output_dict=True)"
   ]
  },
  {
   "cell_type": "markdown",
   "metadata": {},
   "source": [
    "***\n",
    "www.featureranking.com"
   ]
  }
 ],
 "metadata": {
  "kernelspec": {
   "display_name": "Python 3 (ipykernel)",
   "language": "python",
   "name": "python3"
  },
  "language_info": {
   "codemirror_mode": {
    "name": "ipython",
    "version": 3
   },
   "file_extension": ".py",
   "mimetype": "text/x-python",
   "name": "python",
   "nbconvert_exporter": "python",
   "pygments_lexer": "ipython3",
   "version": "3.9.10"
  }
 },
 "nbformat": 4,
 "nbformat_minor": 2
}
